{
  "cells": [
    {
      "cell_type": "markdown",
      "metadata": {
        "id": "JmUI6WAdtgxN"
      },
      "source": [
        "# Reproducibility"
      ]
    },
    {
      "cell_type": "markdown",
      "metadata": {
        "id": "Jmg6VNwku_4G"
      },
      "source": [
        "## Setup"
      ]
    },
    {
      "cell_type": "markdown",
      "metadata": {
        "id": "3g4gYgP4vXex"
      },
      "source": [
        "- Import the necessary Python libraries "
      ]
    },
    {
      "cell_type": "code",
      "execution_count": null,
      "metadata": {
        "id": "MN01M8L7vEsG"
      },
      "outputs": [],
      "source": []
    },
    {
      "cell_type": "markdown",
      "metadata": {
        "id": "Nxdk8jLBvgDF"
      },
      "source": [
        "- Get the data"
      ]
    },
    {
      "cell_type": "code",
      "execution_count": null,
      "metadata": {},
      "outputs": [],
      "source": [
        "!wget https://raw.githubusercontent.com/patricia-ternes/water-wiser-2023/main/data/raw/iris1.csv"
      ]
    },
    {
      "cell_type": "markdown",
      "metadata": {},
      "source": [
        "*Tip: organise your project since the beginning!*"
      ]
    },
    {
      "cell_type": "markdown",
      "metadata": {
        "id": "8gbyPkb4Xbuc"
      },
      "source": [
        "## Open a file"
      ]
    },
    {
      "cell_type": "code",
      "execution_count": null,
      "metadata": {
        "id": "eUiyKHwcDCmZ"
      },
      "outputs": [],
      "source": [
        "# Open the file"
      ]
    },
    {
      "cell_type": "markdown",
      "metadata": {
        "id": "7mcrrh3dtbd2"
      },
      "source": [
        "## Looking the content\n",
        "\n",
        "Notes:\n",
        "\n",
        "- Axis 0 = Row\n",
        "- Axis 1 = Column\n",
        "- Head = First 5 rows\n",
        "- Tail = Last 5 rows"
      ]
    },
    {
      "cell_type": "code",
      "execution_count": null,
      "metadata": {
        "colab": {
          "base_uri": "https://localhost:8080/",
          "height": 206
        },
        "id": "akfYmKA3X-II",
        "outputId": "a551a224-59e4-4956-8028-9efbbe204ba2"
      },
      "outputs": [],
      "source": [
        "# Look head"
      ]
    },
    {
      "cell_type": "code",
      "execution_count": null,
      "metadata": {
        "colab": {
          "base_uri": "https://localhost:8080/",
          "height": 206
        },
        "id": "29D0ybQ-YAUZ",
        "outputId": "8eb8e2be-8afd-438b-84bc-d6df5c4378b8"
      },
      "outputs": [],
      "source": [
        "# Look tail"
      ]
    },
    {
      "cell_type": "code",
      "execution_count": null,
      "metadata": {
        "colab": {
          "base_uri": "https://localhost:8080/"
        },
        "id": "-lNtGRu4NoZb",
        "outputId": "5df27a0d-bf38-47b6-899f-8a039d68bd2a"
      },
      "outputs": [],
      "source": [
        "# Look shape"
      ]
    },
    {
      "cell_type": "code",
      "execution_count": null,
      "metadata": {},
      "outputs": [],
      "source": [
        "# List column names\n"
      ]
    },
    {
      "cell_type": "markdown",
      "metadata": {
        "id": "fbS-xszwXm8R"
      },
      "source": [
        "## Data Operations\n",
        "\n",
        "- Operation on Columns\n",
        "- Summary statistics\n",
        "- Selection of columns\n",
        "- Filtering\n",
        "- If/Then logic\n",
        "- Sorting by Values\n",
        "- Rearranging columns"
      ]
    },
    {
      "cell_type": "markdown",
      "metadata": {
        "id": "S8qR6QoEiOtY"
      },
      "source": [
        "### Operations on columns"
      ]
    },
    {
      "cell_type": "code",
      "execution_count": null,
      "metadata": {
        "id": "Rm-1OmXoXaRU"
      },
      "outputs": [],
      "source": [
        "# sepal operation >> mean\n",
        "\n",
        "\n",
        "# petal operation >> mean\n",
        "\n",
        "\n",
        "# cross operation >> a² + b² = c²\n",
        "\n"
      ]
    },
    {
      "cell_type": "markdown",
      "metadata": {
        "id": "hs28NwzXxwTR"
      },
      "source": [
        "### Summary statistics: Global\n",
        "\n",
        "- Show the statistic results for every column (variable)"
      ]
    },
    {
      "cell_type": "code",
      "execution_count": null,
      "metadata": {
        "colab": {
          "base_uri": "https://localhost:8080/",
          "height": 300
        },
        "id": "jNLJjcylxy_M",
        "outputId": "2b70597b-7375-4a85-b46f-2b4c6018a56e"
      },
      "outputs": [],
      "source": [
        "# descriptive statistics"
      ]
    },
    {
      "cell_type": "markdown",
      "metadata": {
        "id": "HifL9FFADQbi"
      },
      "source": [
        "### Group\n",
        "\n",
        "- Group the rows by one variable"
      ]
    },
    {
      "cell_type": "code",
      "execution_count": null,
      "metadata": {
        "id": "8gjc_9svC1su"
      },
      "outputs": [],
      "source": [
        "# create a group"
      ]
    },
    {
      "cell_type": "markdown",
      "metadata": {
        "id": "hDBnZ30auMtQ"
      },
      "source": [
        "### Summary statistics: Groups\n",
        "\n",
        "- Show the statistics results by Group (`species`) and all variables"
      ]
    },
    {
      "cell_type": "code",
      "execution_count": null,
      "metadata": {
        "colab": {
          "base_uri": "https://localhost:8080/",
          "height": 236
        },
        "id": "EAHkTc2Z5OaG",
        "outputId": "af179260-fd29-41d8-8748-0a1d06877598"
      },
      "outputs": [],
      "source": [
        "# descriptive statistics of the group"
      ]
    },
    {
      "cell_type": "markdown",
      "metadata": {
        "id": "tXilvNy0Dvku"
      },
      "source": [
        "### Summary statistics: Selection of columns"
      ]
    },
    {
      "cell_type": "markdown",
      "metadata": {
        "id": "6ZSjR_c2w4ee"
      },
      "source": [
        "- Choose one variable"
      ]
    },
    {
      "cell_type": "code",
      "execution_count": null,
      "metadata": {
        "colab": {
          "base_uri": "https://localhost:8080/"
        },
        "id": "hgjCp7zewsT-",
        "outputId": "65d257b1-e625-4aaa-f560-0099f621ef5c"
      },
      "outputs": [],
      "source": [
        "# descriptive statistics of one variable"
      ]
    },
    {
      "cell_type": "markdown",
      "metadata": {
        "id": "KKNZpHqCxIkC"
      },
      "source": [
        "- Choose more than one variable"
      ]
    },
    {
      "cell_type": "code",
      "execution_count": null,
      "metadata": {
        "colab": {
          "base_uri": "https://localhost:8080/",
          "height": 206
        },
        "id": "y5Pcncz-xADq",
        "outputId": "979d096c-d7f7-453e-b166-ef8397508f57"
      },
      "outputs": [],
      "source": [
        "# descriptive statistics of two variable in one group"
      ]
    },
    {
      "cell_type": "markdown",
      "metadata": {
        "id": "rr4PML01r6bp"
      },
      "source": [
        "### Filtering"
      ]
    },
    {
      "cell_type": "markdown",
      "metadata": {
        "id": "opZktnInyC9A"
      },
      "source": [
        "- Create a filter based in some condition"
      ]
    },
    {
      "cell_type": "code",
      "execution_count": null,
      "metadata": {
        "colab": {
          "base_uri": "https://localhost:8080/"
        },
        "id": "WHP6QlgJFRy5",
        "outputId": "c034730b-c3f3-473b-c79d-4d8686e05f95"
      },
      "outputs": [],
      "source": [
        "# Cross mean"
      ]
    },
    {
      "cell_type": "code",
      "execution_count": null,
      "metadata": {
        "colab": {
          "base_uri": "https://localhost:8080/"
        },
        "id": "MBbZcyAQy1t7",
        "outputId": "32fc03ab-e61d-4fd4-f7de-6195edb7a9e7"
      },
      "outputs": [],
      "source": [
        "# Create the filter"
      ]
    },
    {
      "cell_type": "markdown",
      "metadata": {
        "id": "nM2MNXzmyGkm"
      },
      "source": [
        "The above statement is simply a Series of True/False objects\n",
        "\n",
        "- Passing `filter` to the DataFrame is going to return all rows with True."
      ]
    },
    {
      "cell_type": "code",
      "execution_count": null,
      "metadata": {
        "colab": {
          "base_uri": "https://localhost:8080/",
          "height": 206
        },
        "id": "MEPj8QXfXaOu",
        "outputId": "4d5139d9-dc5f-419a-c062-8824d58ea935"
      },
      "outputs": [],
      "source": [
        "# Create a filtered dataframe"
      ]
    },
    {
      "cell_type": "markdown",
      "metadata": {
        "id": "5Dtiosqw0EOO"
      },
      "source": [
        "### If/then logic"
      ]
    },
    {
      "cell_type": "code",
      "execution_count": null,
      "metadata": {
        "id": "pdzGzQcR0U86"
      },
      "outputs": [],
      "source": [
        "# Create a new \"size\" column with \"small\" and \"large\" values based on cross mean\n"
      ]
    },
    {
      "cell_type": "markdown",
      "metadata": {
        "id": "WgwhoR9EErJ9"
      },
      "source": [
        "### Working with Columns\n",
        "\n",
        "1. Removing (`drop`) columns\n",
        "2. Rename\n",
        "3. Rearranging\n"
      ]
    },
    {
      "cell_type": "code",
      "execution_count": null,
      "metadata": {
        "colab": {
          "base_uri": "https://localhost:8080/"
        },
        "id": "p1zxjZn1XaCS",
        "outputId": "18abfb8d-a6cb-4f4b-9d05-7d9bcadd8f14"
      },
      "outputs": [],
      "source": [
        "# List column names\n"
      ]
    },
    {
      "cell_type": "code",
      "execution_count": null,
      "metadata": {
        "id": "P2-eAQYME-iQ"
      },
      "outputs": [],
      "source": [
        "# 1. drop columns"
      ]
    },
    {
      "cell_type": "code",
      "execution_count": null,
      "metadata": {
        "id": "LELlhSEgXaE5"
      },
      "outputs": [],
      "source": [
        "# 2. Renaming\n",
        "\n",
        "# Define name dict\n",
        "\n",
        "\n",
        "# Rename based on dict\n"
      ]
    },
    {
      "cell_type": "code",
      "execution_count": null,
      "metadata": {
        "id": "Z0LSESDfXZ_2"
      },
      "outputs": [],
      "source": [
        "# 3. Rearranging >> Species >> Size >> petal_length >> petal_width >> sepal_length >> sepal_width\n"
      ]
    },
    {
      "cell_type": "markdown",
      "metadata": {
        "id": "w2MZpATJTYV0"
      },
      "source": [
        "## Plotting"
      ]
    },
    {
      "cell_type": "code",
      "execution_count": null,
      "metadata": {
        "id": "BZDYLkKmTg9I"
      },
      "outputs": [],
      "source": [
        "# import plotting packages\n",
        "\n",
        "# set a theme\n"
      ]
    },
    {
      "cell_type": "markdown",
      "metadata": {
        "id": "m0uzdKGciX80"
      },
      "source": [
        "### Statistical graphics"
      ]
    },
    {
      "cell_type": "code",
      "execution_count": null,
      "metadata": {
        "colab": {
          "base_uri": "https://localhost:8080/",
          "height": 518
        },
        "id": "3nMaLkV1qSLo",
        "outputId": "449738d2-f075-42e1-89d4-b38dac44e20c"
      },
      "outputs": [],
      "source": [
        "# Scatter plot: petal_length vs petal_width\n"
      ]
    },
    {
      "cell_type": "code",
      "execution_count": null,
      "metadata": {
        "colab": {
          "base_uri": "https://localhost:8080/",
          "height": 517
        },
        "id": "rZJu3bUZoCCa",
        "outputId": "2f3daec6-7b5a-4c62-8d00-84b4535bc8a7"
      },
      "outputs": [],
      "source": [
        "# Linear Regression with uncertainty: petal_length vs petal_width\n"
      ]
    },
    {
      "cell_type": "markdown",
      "metadata": {
        "id": "OGcK-NiBuaAE"
      },
      "source": [
        "### Distributional representations"
      ]
    },
    {
      "cell_type": "code",
      "execution_count": null,
      "metadata": {
        "colab": {
          "base_uri": "https://localhost:8080/",
          "height": 518
        },
        "id": "mFlvlBGFudCR",
        "outputId": "c4fcec60-d096-43f4-9b21-b98a75e1f687"
      },
      "outputs": [],
      "source": [
        "# Distributional plot for petal_length | grouping by Species\n"
      ]
    },
    {
      "cell_type": "markdown",
      "metadata": {
        "id": "jcvH4L9Iud8F"
      },
      "source": [
        "### Plots for categorical data\n",
        "\n",
        "- swarm\n",
        "- violin\n",
        "- bar (with error bar!)\n",
        "- box"
      ]
    },
    {
      "cell_type": "code",
      "execution_count": null,
      "metadata": {
        "colab": {
          "base_uri": "https://localhost:8080/",
          "height": 518
        },
        "id": "0nk8FDxLu8FK",
        "outputId": "4f160b15-8f3c-47ae-e7d4-06740a70f4ce"
      },
      "outputs": [],
      "source": [
        "# Swarm plot: Size vs petal_length"
      ]
    },
    {
      "cell_type": "code",
      "execution_count": null,
      "metadata": {
        "colab": {
          "base_uri": "https://localhost:8080/",
          "height": 518
        },
        "id": "u1pIL7NUvWYN",
        "outputId": "92e62772-f3fa-4161-948f-0672443ec00d"
      },
      "outputs": [],
      "source": [
        "# Violin plot: Species vs petal_length"
      ]
    },
    {
      "cell_type": "code",
      "execution_count": null,
      "metadata": {
        "colab": {
          "base_uri": "https://localhost:8080/",
          "height": 518
        },
        "id": "WHUNkNu6vp3X",
        "outputId": "6b709bee-cfd4-4ab0-ec16-1b363fe59da3"
      },
      "outputs": [],
      "source": [
        "# Bar plot: Species vs petal_length\n"
      ]
    },
    {
      "cell_type": "code",
      "execution_count": null,
      "metadata": {
        "colab": {
          "base_uri": "https://localhost:8080/",
          "height": 517
        },
        "id": "VLPuI91Fyvee",
        "outputId": "e3885aaa-6350-4f65-f025-1c97d1145a31"
      },
      "outputs": [],
      "source": [
        "# Box plot: Species vs petal_length\n"
      ]
    },
    {
      "cell_type": "markdown",
      "metadata": {
        "id": "LWGPs-z8uy6P"
      },
      "source": [
        "### Multivariate views on complex datasets\n",
        "\n",
        "- Single pair relationship (jointplot)\n",
        "- All pairwise relationship (pairplot)\n",
        "- Correlation (Pearson, Kendall, Spearman)"
      ]
    },
    {
      "cell_type": "code",
      "execution_count": null,
      "metadata": {
        "colab": {
          "base_uri": "https://localhost:8080/",
          "height": 618
        },
        "id": "IBAuVVzwwlJW",
        "outputId": "cb9755ea-2c91-4e29-c8c9-84f79f752265"
      },
      "outputs": [],
      "source": [
        "# Joint Plot: petal_length vs petal_width"
      ]
    },
    {
      "cell_type": "code",
      "execution_count": null,
      "metadata": {
        "colab": {
          "base_uri": "https://localhost:8080/",
          "height": 1000
        },
        "id": "-V_ZV1eZwzxY",
        "outputId": "b7e54bc2-49ef-406c-e419-c2486ab4f30a"
      },
      "outputs": [],
      "source": [
        "# Pair plot"
      ]
    },
    {
      "cell_type": "code",
      "execution_count": null,
      "metadata": {
        "colab": {
          "base_uri": "https://localhost:8080/",
          "height": 458
        },
        "id": "cDI7EF57yaQ1",
        "outputId": "c7b5bdf7-a398-41eb-c7ee-0cfd850a781a"
      },
      "outputs": [],
      "source": [
        "# Use pandas to calculate correlation - methods {'pearson', 'kendall', 'spearman'}\n",
        "\n",
        "# Use seaborn heatmap to plot\n"
      ]
    },
    {
      "cell_type": "markdown",
      "metadata": {
        "id": "05_YPDaQvl7m"
      },
      "source": [
        "# Automation\n",
        "\n",
        "- Create a unique dataframe combining iris1 and iris2\n",
        "- Break the `petal_length` in chunks of 1 from 1 to 7\n",
        "- For every chunk create the label `size`\n",
        "- Clean and organize the dataframe as presented above\n",
        "- For every dataframe, create a displot\n",
        "- Save the filtered dataframe in a `.csv` file\n",
        "- Save the plot as a `png` image"
      ]
    },
    {
      "cell_type": "code",
      "execution_count": null,
      "metadata": {
        "id": "kgr3Tj3OxcMQ"
      },
      "outputs": [],
      "source": [
        "# Load iris 1\n",
        "\n",
        "\n",
        "# Load iris 2\n",
        "\n",
        "\n",
        "# Concatenate in one dataframe: tip: reset_index(drop=True)\n"
      ]
    },
    {
      "cell_type": "code",
      "execution_count": null,
      "metadata": {
        "id": "LE3knCKwxq4A"
      },
      "outputs": [],
      "source": [
        "# Create a filter for petal_length between 1 and 2: Tip: `&` operator for `and`\n"
      ]
    },
    {
      "cell_type": "markdown",
      "metadata": {},
      "source": [
        "TIP!\n",
        "\n",
        "`Ctrl + d` select similar values for quick replace"
      ]
    },
    {
      "cell_type": "code",
      "execution_count": null,
      "metadata": {
        "id": "4PkizKs8ycVh"
      },
      "outputs": [],
      "source": [
        "# Create the filtered dataframe\n"
      ]
    },
    {
      "cell_type": "code",
      "execution_count": null,
      "metadata": {
        "colab": {
          "base_uri": "https://localhost:8080/"
        },
        "id": "fH_nyIacyxfU",
        "outputId": "d001bfed-23b3-46cc-99b9-8dc0de51502b"
      },
      "outputs": [],
      "source": [
        "# sepal operation >> mean\n",
        "\n",
        "\n",
        "# petal operation >> mean\n",
        "\n",
        "\n",
        "# cross operation >> a² + b² = c²\n",
        "\n",
        "\n",
        "# if/then >> create size column with \"small\" and \"large\"\n"
      ]
    },
    {
      "cell_type": "code",
      "execution_count": null,
      "metadata": {
        "id": "HS45rfxzzzoB"
      },
      "outputs": [],
      "source": [
        "# 1. drop columns\n",
        "\n",
        "\n",
        "# 2. Renaming\n",
        "# Define name dict\n",
        "\n",
        "# Rename based on dict\n",
        "\n",
        "# 3. Rearranging\n"
      ]
    },
    {
      "cell_type": "code",
      "execution_count": null,
      "metadata": {
        "colab": {
          "base_uri": "https://localhost:8080/",
          "height": 501
        },
        "id": "WWVxSR3W0IBf",
        "outputId": "34bd27ff-5b80-4545-fa0e-c2cb6600dc3d"
      },
      "outputs": [],
      "source": [
        "# Plot and save the distribution plot: Tip: define a dpi for better quality output"
      ]
    },
    {
      "cell_type": "code",
      "execution_count": null,
      "metadata": {
        "id": "ddL9imoxy5Qw"
      },
      "outputs": [],
      "source": [
        "# save csv\n"
      ]
    },
    {
      "cell_type": "markdown",
      "metadata": {
        "id": "sVgh5uHI5jFQ"
      },
      "source": [
        "### Generalise!"
      ]
    },
    {
      "cell_type": "code",
      "execution_count": null,
      "metadata": {
        "colab": {
          "base_uri": "https://localhost:8080/",
          "height": 1000
        },
        "id": "X2GcxTtG5Os6",
        "outputId": "ae534f51-9a77-4c2a-c1a4-27ecbc53cfa0"
      },
      "outputs": [],
      "source": [
        "for i in range(1, 7):\n",
        "    # repeat the above using a for loop to automatise the processes.\n",
        "    "
      ]
    },
    {
      "cell_type": "markdown",
      "metadata": {
        "id": "tMkLqpMPXZd6"
      },
      "source": [
        "# Going beyond: Machine Learning"
      ]
    },
    {
      "cell_type": "code",
      "execution_count": null,
      "metadata": {
        "id": "7wEd2Kox6Yia"
      },
      "outputs": [],
      "source": [
        "# Load iris 1\n",
        "\n",
        "\n",
        "# Load iris 2\n",
        "\n",
        "\n",
        "# Concatenate in one dataframe: tip: reset_index(drop=True)\n"
      ]
    },
    {
      "cell_type": "code",
      "execution_count": null,
      "metadata": {
        "id": "NnkFpFcuOQ2_"
      },
      "outputs": [],
      "source": [
        "# create a label using \"species\" >> remove from the original dataframe using pop\n"
      ]
    },
    {
      "cell_type": "code",
      "execution_count": null,
      "metadata": {
        "id": "0WT-XE39DNJA"
      },
      "outputs": [],
      "source": [
        "# Load the ML function tree.DecisionTreeClassifier\n",
        "\n",
        "\n",
        "# create the empty model\n"
      ]
    },
    {
      "cell_type": "code",
      "execution_count": null,
      "metadata": {
        "id": "mM1iJVZpObc2"
      },
      "outputs": [],
      "source": [
        "# Load train_test_split function\n",
        "from sklearn.model_selection import train_test_split\n",
        "\n",
        "# Create train and test randomised datasets"
      ]
    },
    {
      "cell_type": "code",
      "execution_count": null,
      "metadata": {
        "id": "56DEwrPQOkl1"
      },
      "outputs": [],
      "source": [
        "# Train your empty model\n"
      ]
    },
    {
      "cell_type": "code",
      "execution_count": null,
      "metadata": {
        "id": "6X6aBQXPOlct"
      },
      "outputs": [],
      "source": [
        "# Use the test dataset to make predictions using your trained model\n"
      ]
    },
    {
      "cell_type": "code",
      "execution_count": null,
      "metadata": {
        "colab": {
          "base_uri": "https://localhost:8080/"
        },
        "id": "I9rpDBnHOo2Y",
        "outputId": "1977a526-77a5-498d-da55-f43c1a86b840"
      },
      "outputs": [],
      "source": [
        "# import accuracy_score function\n",
        "\n",
        "# print the accuracy score of your predictions\n"
      ]
    },
    {
      "cell_type": "code",
      "execution_count": null,
      "metadata": {
        "id": "ierbapo0O73S"
      },
      "outputs": [],
      "source": [
        "# Here is some example input and expected classes you can try above\n",
        "predict_x = {\n",
        "    'petal_length': [1.7, 4.2, 5.4],\n",
        "    'petal_width': [0.5, 1.5, 2.1],\n",
        "    'sepal_length': [5.1, 5.9, 6.9],\n",
        "    'sepal_width': [3.3, 3.0, 3.1],\n",
        "}\n",
        "predict_x = pd.DataFrame(predict_x)\n",
        "\n",
        "# for these values, the classification is: 'setosa', 'versicolor', 'virginica'"
      ]
    },
    {
      "cell_type": "code",
      "execution_count": null,
      "metadata": {
        "colab": {
          "base_uri": "https://localhost:8080/"
        },
        "id": "54wx7H6iPNTD",
        "outputId": "88f0d6fb-fb86-4b07-84c3-0e7d200a93bf"
      },
      "outputs": [],
      "source": [
        "# Check if your model predicts the above values\n"
      ]
    }
  ],
  "metadata": {
    "colab": {
      "provenance": [],
      "toc_visible": true
    },
    "kernelspec": {
      "display_name": "Python 3.6.8 64-bit",
      "language": "python",
      "name": "python3"
    },
    "language_info": {
      "name": "python",
      "version": "3.6.8"
    },
    "vscode": {
      "interpreter": {
        "hash": "916dbcbb3f70747c44a77c7bcd40155683ae19c65e1c03b4aa3499c5328201f1"
      }
    }
  },
  "nbformat": 4,
  "nbformat_minor": 0
}
